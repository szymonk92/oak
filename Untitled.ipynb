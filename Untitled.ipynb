{
 "cells": [
  {
   "cell_type": "code",
   "execution_count": 1,
   "metadata": {
    "collapsed": false
   },
   "outputs": [],
   "source": [
    "import pandas as pd\n",
    "import numpy as np\n",
    "import matplotlib.pyplot as plt\n",
    "import sklearn \n",
    "import seaborn as sns\n",
    "import missingno as msno\n",
    "%matplotlib inline\n",
    "\n",
    "from mlxtend.feature_selection import SequentialFeatureSelector"
   ]
  },
  {
   "cell_type": "code",
   "execution_count": 2,
   "metadata": {
    "collapsed": false
   },
   "outputs": [
    {
     "data": {
      "text/plain": [
       "(784, 65)"
      ]
     },
     "execution_count": 2,
     "metadata": {},
     "output_type": "execute_result"
    }
   ],
   "source": [
    "#Load data\n",
    "df = pd.read_csv('Maple_Oak.txt', sep=\",\", header = None)\n",
    "df.columns = [\"Name\", \"1\", \"2\", \"3\", \"4\", \"5\", \"6\", \"7\", \"8\", \"9\", \"10\", \"11\", \"12\", \"13\", \"14\", \"15\", \n",
    "              \"16\", \"17\", \"18\", \"19\", \"20\", \"21\", \"22\", \"23\", \"24\", \"25\", \"26\", \"27\", \"28\", \"29\", \"30\", \n",
    "              \"31\", \"32\", \"33\", \"34\", \"35\", \"36\", \"37\", \"38\", \"39\", \"40\", \"41\", \"42\", \"43\", \"44\", \"45\", \n",
    "              \"46\", \"47\", \"48\", \"49\", \"50\", \"51\", \"52\", \"53\", \"54\", \"55\", \"56\", \"57\", \"58\", \"59\", \"60\", \n",
    "              \"61\", \"62\", \"63\", \"64\"]\n",
    "df.shape"
   ]
  },
  {
   "cell_type": "code",
   "execution_count": 3,
   "metadata": {
    "collapsed": false
   },
   "outputs": [
    {
     "data": {
      "text/html": [
       "<div>\n",
       "<table border=\"1\" class=\"dataframe\">\n",
       "  <thead>\n",
       "    <tr style=\"text-align: right;\">\n",
       "      <th></th>\n",
       "      <th>Name</th>\n",
       "      <th>1</th>\n",
       "      <th>2</th>\n",
       "      <th>3</th>\n",
       "      <th>4</th>\n",
       "      <th>5</th>\n",
       "      <th>6</th>\n",
       "      <th>7</th>\n",
       "      <th>8</th>\n",
       "      <th>9</th>\n",
       "      <th>...</th>\n",
       "      <th>55</th>\n",
       "      <th>56</th>\n",
       "      <th>57</th>\n",
       "      <th>58</th>\n",
       "      <th>59</th>\n",
       "      <th>60</th>\n",
       "      <th>61</th>\n",
       "      <th>62</th>\n",
       "      <th>63</th>\n",
       "      <th>64</th>\n",
       "    </tr>\n",
       "  </thead>\n",
       "  <tbody>\n",
       "    <tr>\n",
       "      <th>0</th>\n",
       "      <td>Acer Campestre</td>\n",
       "      <td>0.003906</td>\n",
       "      <td>0.003906</td>\n",
       "      <td>0.027344</td>\n",
       "      <td>0.033203</td>\n",
       "      <td>0.007812</td>\n",
       "      <td>0.017578</td>\n",
       "      <td>0.023438</td>\n",
       "      <td>0.005859</td>\n",
       "      <td>0.000000</td>\n",
       "      <td>...</td>\n",
       "      <td>0.011719</td>\n",
       "      <td>0.000000</td>\n",
       "      <td>0.005859</td>\n",
       "      <td>0.035156</td>\n",
       "      <td>0.027344</td>\n",
       "      <td>0.033203</td>\n",
       "      <td>0.001953</td>\n",
       "      <td>0.000000</td>\n",
       "      <td>0.017578</td>\n",
       "      <td>0.0</td>\n",
       "    </tr>\n",
       "    <tr>\n",
       "      <th>1</th>\n",
       "      <td>Acer Campestre</td>\n",
       "      <td>0.005859</td>\n",
       "      <td>0.013672</td>\n",
       "      <td>0.027344</td>\n",
       "      <td>0.025391</td>\n",
       "      <td>0.013672</td>\n",
       "      <td>0.029297</td>\n",
       "      <td>0.019531</td>\n",
       "      <td>0.000000</td>\n",
       "      <td>0.001953</td>\n",
       "      <td>...</td>\n",
       "      <td>0.017578</td>\n",
       "      <td>0.000000</td>\n",
       "      <td>0.021484</td>\n",
       "      <td>0.017578</td>\n",
       "      <td>0.046875</td>\n",
       "      <td>0.005859</td>\n",
       "      <td>0.003906</td>\n",
       "      <td>0.003906</td>\n",
       "      <td>0.046875</td>\n",
       "      <td>0.0</td>\n",
       "    </tr>\n",
       "    <tr>\n",
       "      <th>2</th>\n",
       "      <td>Acer Campestre</td>\n",
       "      <td>0.011719</td>\n",
       "      <td>0.001953</td>\n",
       "      <td>0.027344</td>\n",
       "      <td>0.044922</td>\n",
       "      <td>0.017578</td>\n",
       "      <td>0.042969</td>\n",
       "      <td>0.023438</td>\n",
       "      <td>0.000000</td>\n",
       "      <td>0.003906</td>\n",
       "      <td>...</td>\n",
       "      <td>0.035156</td>\n",
       "      <td>0.000000</td>\n",
       "      <td>0.015625</td>\n",
       "      <td>0.021484</td>\n",
       "      <td>0.056641</td>\n",
       "      <td>0.009766</td>\n",
       "      <td>0.003906</td>\n",
       "      <td>0.000000</td>\n",
       "      <td>0.015625</td>\n",
       "      <td>0.0</td>\n",
       "    </tr>\n",
       "    <tr>\n",
       "      <th>3</th>\n",
       "      <td>Acer Campestre</td>\n",
       "      <td>0.013672</td>\n",
       "      <td>0.011719</td>\n",
       "      <td>0.037109</td>\n",
       "      <td>0.017578</td>\n",
       "      <td>0.011719</td>\n",
       "      <td>0.087891</td>\n",
       "      <td>0.023438</td>\n",
       "      <td>0.000000</td>\n",
       "      <td>0.000000</td>\n",
       "      <td>...</td>\n",
       "      <td>0.015625</td>\n",
       "      <td>0.001953</td>\n",
       "      <td>0.021484</td>\n",
       "      <td>0.029297</td>\n",
       "      <td>0.033203</td>\n",
       "      <td>0.003906</td>\n",
       "      <td>0.000000</td>\n",
       "      <td>0.001953</td>\n",
       "      <td>0.027344</td>\n",
       "      <td>0.0</td>\n",
       "    </tr>\n",
       "    <tr>\n",
       "      <th>4</th>\n",
       "      <td>Acer Campestre</td>\n",
       "      <td>0.007812</td>\n",
       "      <td>0.009766</td>\n",
       "      <td>0.027344</td>\n",
       "      <td>0.025391</td>\n",
       "      <td>0.001953</td>\n",
       "      <td>0.005859</td>\n",
       "      <td>0.015625</td>\n",
       "      <td>0.000000</td>\n",
       "      <td>0.005859</td>\n",
       "      <td>...</td>\n",
       "      <td>0.023438</td>\n",
       "      <td>0.001953</td>\n",
       "      <td>0.021484</td>\n",
       "      <td>0.048828</td>\n",
       "      <td>0.056641</td>\n",
       "      <td>0.019531</td>\n",
       "      <td>0.000000</td>\n",
       "      <td>0.000000</td>\n",
       "      <td>0.013672</td>\n",
       "      <td>0.0</td>\n",
       "    </tr>\n",
       "  </tbody>\n",
       "</table>\n",
       "<p>5 rows × 65 columns</p>\n",
       "</div>"
      ],
      "text/plain": [
       "             Name         1         2         3         4         5         6  \\\n",
       "0  Acer Campestre  0.003906  0.003906  0.027344  0.033203  0.007812  0.017578   \n",
       "1  Acer Campestre  0.005859  0.013672  0.027344  0.025391  0.013672  0.029297   \n",
       "2  Acer Campestre  0.011719  0.001953  0.027344  0.044922  0.017578  0.042969   \n",
       "3  Acer Campestre  0.013672  0.011719  0.037109  0.017578  0.011719  0.087891   \n",
       "4  Acer Campestre  0.007812  0.009766  0.027344  0.025391  0.001953  0.005859   \n",
       "\n",
       "          7         8         9 ...         55        56        57        58  \\\n",
       "0  0.023438  0.005859  0.000000 ...   0.011719  0.000000  0.005859  0.035156   \n",
       "1  0.019531  0.000000  0.001953 ...   0.017578  0.000000  0.021484  0.017578   \n",
       "2  0.023438  0.000000  0.003906 ...   0.035156  0.000000  0.015625  0.021484   \n",
       "3  0.023438  0.000000  0.000000 ...   0.015625  0.001953  0.021484  0.029297   \n",
       "4  0.015625  0.000000  0.005859 ...   0.023438  0.001953  0.021484  0.048828   \n",
       "\n",
       "         59        60        61        62        63   64  \n",
       "0  0.027344  0.033203  0.001953  0.000000  0.017578  0.0  \n",
       "1  0.046875  0.005859  0.003906  0.003906  0.046875  0.0  \n",
       "2  0.056641  0.009766  0.003906  0.000000  0.015625  0.0  \n",
       "3  0.033203  0.003906  0.000000  0.001953  0.027344  0.0  \n",
       "4  0.056641  0.019531  0.000000  0.000000  0.013672  0.0  \n",
       "\n",
       "[5 rows x 65 columns]"
      ]
     },
     "execution_count": 3,
     "metadata": {},
     "output_type": "execute_result"
    }
   ],
   "source": [
    "#Show first 5 rows\n",
    "df.head()"
   ]
  },
  {
   "cell_type": "code",
   "execution_count": 4,
   "metadata": {
    "collapsed": false
   },
   "outputs": [
    {
     "data": {
      "text/html": [
       "<div>\n",
       "<table border=\"1\" class=\"dataframe\">\n",
       "  <thead>\n",
       "    <tr style=\"text-align: right;\">\n",
       "      <th></th>\n",
       "      <th>1</th>\n",
       "      <th>2</th>\n",
       "      <th>3</th>\n",
       "      <th>4</th>\n",
       "      <th>5</th>\n",
       "      <th>6</th>\n",
       "      <th>7</th>\n",
       "      <th>8</th>\n",
       "      <th>9</th>\n",
       "      <th>10</th>\n",
       "      <th>...</th>\n",
       "      <th>55</th>\n",
       "      <th>56</th>\n",
       "      <th>57</th>\n",
       "      <th>58</th>\n",
       "      <th>59</th>\n",
       "      <th>60</th>\n",
       "      <th>61</th>\n",
       "      <th>62</th>\n",
       "      <th>63</th>\n",
       "      <th>64</th>\n",
       "    </tr>\n",
       "  </thead>\n",
       "  <tbody>\n",
       "    <tr>\n",
       "      <th>count</th>\n",
       "      <td>784.000000</td>\n",
       "      <td>784.000000</td>\n",
       "      <td>784.000000</td>\n",
       "      <td>784.000000</td>\n",
       "      <td>784.000000</td>\n",
       "      <td>784.000000</td>\n",
       "      <td>784.000000</td>\n",
       "      <td>784.000000</td>\n",
       "      <td>784.000000</td>\n",
       "      <td>784.000000</td>\n",
       "      <td>...</td>\n",
       "      <td>784.000000</td>\n",
       "      <td>784.000000</td>\n",
       "      <td>784.000000</td>\n",
       "      <td>784.000000</td>\n",
       "      <td>784.000000</td>\n",
       "      <td>784.000000</td>\n",
       "      <td>784.000000</td>\n",
       "      <td>784.000000</td>\n",
       "      <td>784.000000</td>\n",
       "      <td>784.000000</td>\n",
       "    </tr>\n",
       "    <tr>\n",
       "      <th>mean</th>\n",
       "      <td>0.013004</td>\n",
       "      <td>0.018460</td>\n",
       "      <td>0.038233</td>\n",
       "      <td>0.029653</td>\n",
       "      <td>0.012346</td>\n",
       "      <td>0.024225</td>\n",
       "      <td>0.019135</td>\n",
       "      <td>0.000825</td>\n",
       "      <td>0.008647</td>\n",
       "      <td>0.017688</td>\n",
       "      <td>...</td>\n",
       "      <td>0.020020</td>\n",
       "      <td>0.004524</td>\n",
       "      <td>0.011781</td>\n",
       "      <td>0.022453</td>\n",
       "      <td>0.042695</td>\n",
       "      <td>0.013094</td>\n",
       "      <td>0.001370</td>\n",
       "      <td>0.003797</td>\n",
       "      <td>0.025558</td>\n",
       "      <td>0.004200</td>\n",
       "    </tr>\n",
       "    <tr>\n",
       "      <th>std</th>\n",
       "      <td>0.014535</td>\n",
       "      <td>0.026208</td>\n",
       "      <td>0.026273</td>\n",
       "      <td>0.030526</td>\n",
       "      <td>0.015829</td>\n",
       "      <td>0.035439</td>\n",
       "      <td>0.016527</td>\n",
       "      <td>0.002522</td>\n",
       "      <td>0.011809</td>\n",
       "      <td>0.015082</td>\n",
       "      <td>...</td>\n",
       "      <td>0.023484</td>\n",
       "      <td>0.006005</td>\n",
       "      <td>0.009199</td>\n",
       "      <td>0.018674</td>\n",
       "      <td>0.040327</td>\n",
       "      <td>0.013540</td>\n",
       "      <td>0.002737</td>\n",
       "      <td>0.008111</td>\n",
       "      <td>0.018077</td>\n",
       "      <td>0.008675</td>\n",
       "    </tr>\n",
       "    <tr>\n",
       "      <th>min</th>\n",
       "      <td>0.000000</td>\n",
       "      <td>0.000000</td>\n",
       "      <td>0.000000</td>\n",
       "      <td>0.000000</td>\n",
       "      <td>0.000000</td>\n",
       "      <td>0.000000</td>\n",
       "      <td>0.000000</td>\n",
       "      <td>0.000000</td>\n",
       "      <td>0.000000</td>\n",
       "      <td>0.000000</td>\n",
       "      <td>...</td>\n",
       "      <td>0.000000</td>\n",
       "      <td>0.000000</td>\n",
       "      <td>0.000000</td>\n",
       "      <td>0.000000</td>\n",
       "      <td>0.000000</td>\n",
       "      <td>0.000000</td>\n",
       "      <td>0.000000</td>\n",
       "      <td>0.000000</td>\n",
       "      <td>0.000000</td>\n",
       "      <td>0.000000</td>\n",
       "    </tr>\n",
       "    <tr>\n",
       "      <th>25%</th>\n",
       "      <td>0.001953</td>\n",
       "      <td>0.001953</td>\n",
       "      <td>0.019531</td>\n",
       "      <td>0.009766</td>\n",
       "      <td>0.003906</td>\n",
       "      <td>0.000000</td>\n",
       "      <td>0.005859</td>\n",
       "      <td>0.000000</td>\n",
       "      <td>0.001953</td>\n",
       "      <td>0.005859</td>\n",
       "      <td>...</td>\n",
       "      <td>0.001953</td>\n",
       "      <td>0.000000</td>\n",
       "      <td>0.005859</td>\n",
       "      <td>0.007812</td>\n",
       "      <td>0.017578</td>\n",
       "      <td>0.003906</td>\n",
       "      <td>0.000000</td>\n",
       "      <td>0.000000</td>\n",
       "      <td>0.011719</td>\n",
       "      <td>0.000000</td>\n",
       "    </tr>\n",
       "    <tr>\n",
       "      <th>50%</th>\n",
       "      <td>0.009766</td>\n",
       "      <td>0.008789</td>\n",
       "      <td>0.031250</td>\n",
       "      <td>0.019531</td>\n",
       "      <td>0.007812</td>\n",
       "      <td>0.009766</td>\n",
       "      <td>0.017578</td>\n",
       "      <td>0.000000</td>\n",
       "      <td>0.005859</td>\n",
       "      <td>0.015625</td>\n",
       "      <td>...</td>\n",
       "      <td>0.013672</td>\n",
       "      <td>0.001953</td>\n",
       "      <td>0.009766</td>\n",
       "      <td>0.017578</td>\n",
       "      <td>0.031250</td>\n",
       "      <td>0.009766</td>\n",
       "      <td>0.000000</td>\n",
       "      <td>0.000000</td>\n",
       "      <td>0.023438</td>\n",
       "      <td>0.001953</td>\n",
       "    </tr>\n",
       "    <tr>\n",
       "      <th>75%</th>\n",
       "      <td>0.019531</td>\n",
       "      <td>0.023438</td>\n",
       "      <td>0.050781</td>\n",
       "      <td>0.035644</td>\n",
       "      <td>0.013672</td>\n",
       "      <td>0.033203</td>\n",
       "      <td>0.027344</td>\n",
       "      <td>0.000000</td>\n",
       "      <td>0.007812</td>\n",
       "      <td>0.025391</td>\n",
       "      <td>...</td>\n",
       "      <td>0.025391</td>\n",
       "      <td>0.005859</td>\n",
       "      <td>0.015625</td>\n",
       "      <td>0.031250</td>\n",
       "      <td>0.046875</td>\n",
       "      <td>0.017578</td>\n",
       "      <td>0.001953</td>\n",
       "      <td>0.003906</td>\n",
       "      <td>0.035156</td>\n",
       "      <td>0.003906</td>\n",
       "    </tr>\n",
       "    <tr>\n",
       "      <th>max</th>\n",
       "      <td>0.082031</td>\n",
       "      <td>0.158200</td>\n",
       "      <td>0.128910</td>\n",
       "      <td>0.164060</td>\n",
       "      <td>0.111330</td>\n",
       "      <td>0.203130</td>\n",
       "      <td>0.091797</td>\n",
       "      <td>0.031250</td>\n",
       "      <td>0.083984</td>\n",
       "      <td>0.083984</td>\n",
       "      <td>...</td>\n",
       "      <td>0.140630</td>\n",
       "      <td>0.033203</td>\n",
       "      <td>0.060547</td>\n",
       "      <td>0.103520</td>\n",
       "      <td>0.251950</td>\n",
       "      <td>0.089844</td>\n",
       "      <td>0.042969</td>\n",
       "      <td>0.058594</td>\n",
       "      <td>0.101560</td>\n",
       "      <td>0.082031</td>\n",
       "    </tr>\n",
       "  </tbody>\n",
       "</table>\n",
       "<p>8 rows × 64 columns</p>\n",
       "</div>"
      ],
      "text/plain": [
       "                1           2           3           4           5           6  \\\n",
       "count  784.000000  784.000000  784.000000  784.000000  784.000000  784.000000   \n",
       "mean     0.013004    0.018460    0.038233    0.029653    0.012346    0.024225   \n",
       "std      0.014535    0.026208    0.026273    0.030526    0.015829    0.035439   \n",
       "min      0.000000    0.000000    0.000000    0.000000    0.000000    0.000000   \n",
       "25%      0.001953    0.001953    0.019531    0.009766    0.003906    0.000000   \n",
       "50%      0.009766    0.008789    0.031250    0.019531    0.007812    0.009766   \n",
       "75%      0.019531    0.023438    0.050781    0.035644    0.013672    0.033203   \n",
       "max      0.082031    0.158200    0.128910    0.164060    0.111330    0.203130   \n",
       "\n",
       "                7           8           9          10     ...              55  \\\n",
       "count  784.000000  784.000000  784.000000  784.000000     ...      784.000000   \n",
       "mean     0.019135    0.000825    0.008647    0.017688     ...        0.020020   \n",
       "std      0.016527    0.002522    0.011809    0.015082     ...        0.023484   \n",
       "min      0.000000    0.000000    0.000000    0.000000     ...        0.000000   \n",
       "25%      0.005859    0.000000    0.001953    0.005859     ...        0.001953   \n",
       "50%      0.017578    0.000000    0.005859    0.015625     ...        0.013672   \n",
       "75%      0.027344    0.000000    0.007812    0.025391     ...        0.025391   \n",
       "max      0.091797    0.031250    0.083984    0.083984     ...        0.140630   \n",
       "\n",
       "               56          57          58          59          60          61  \\\n",
       "count  784.000000  784.000000  784.000000  784.000000  784.000000  784.000000   \n",
       "mean     0.004524    0.011781    0.022453    0.042695    0.013094    0.001370   \n",
       "std      0.006005    0.009199    0.018674    0.040327    0.013540    0.002737   \n",
       "min      0.000000    0.000000    0.000000    0.000000    0.000000    0.000000   \n",
       "25%      0.000000    0.005859    0.007812    0.017578    0.003906    0.000000   \n",
       "50%      0.001953    0.009766    0.017578    0.031250    0.009766    0.000000   \n",
       "75%      0.005859    0.015625    0.031250    0.046875    0.017578    0.001953   \n",
       "max      0.033203    0.060547    0.103520    0.251950    0.089844    0.042969   \n",
       "\n",
       "               62          63          64  \n",
       "count  784.000000  784.000000  784.000000  \n",
       "mean     0.003797    0.025558    0.004200  \n",
       "std      0.008111    0.018077    0.008675  \n",
       "min      0.000000    0.000000    0.000000  \n",
       "25%      0.000000    0.011719    0.000000  \n",
       "50%      0.000000    0.023438    0.001953  \n",
       "75%      0.003906    0.035156    0.003906  \n",
       "max      0.058594    0.101560    0.082031  \n",
       "\n",
       "[8 rows x 64 columns]"
      ]
     },
     "execution_count": 4,
     "metadata": {},
     "output_type": "execute_result"
    }
   ],
   "source": [
    "#Show simple sattistics\n",
    "df.describe()"
   ]
  },
  {
   "cell_type": "markdown",
   "metadata": {},
   "source": [
    "Dane są znormalizowane, czyli mają zakres od 0 do 0.2(?) Bardzo dziwne."
   ]
  },
  {
   "cell_type": "code",
   "execution_count": 5,
   "metadata": {
    "collapsed": false
   },
   "outputs": [
    {
     "data": {
      "image/png": "[encoded data removed]",
      "text/plain": [
       "<matplotlib.figure.Figure at 0xa3b4cc0>"
      ]
     },
     "metadata": {},
     "output_type": "display_data"
    }
   ],
   "source": [
    "msno.matrix(df)"
   ]
  },
  {
   "cell_type": "code",
   "execution_count": 6,
   "metadata": {
    "collapsed": true
   },
   "outputs": [],
   "source": [
    "df['Name'] = df['Name'].map({ 'Acer Campestre' : 'Acer', \n",
    "                             'Acer Campestre' : 'Acer', \n",
    "                             'Acer Capillipes' : 'Acer', \n",
    "                             'Acer Circinatum' : 'Acer', \n",
    "                             'Acer Mono' : 'Acer',       \n",
    "                             'Acer Opalus' : 'Acer', \n",
    "                             'Acer Palmatum' : 'Acer', \n",
    "                             'Acer Pictum' : 'Acer', \n",
    "                             'Acer Platanoids' : 'Acer',       \n",
    "                             'Acer Rubrum' : 'Acer', \n",
    "                             'Acer Rufinerve' : 'Acer', \n",
    "                             'Acer Saccharinum' : 'Acer',\n",
    "                             'Quercus Afares' : 'Quercus', \n",
    "                             'Quercus Agrifolia' : 'Quercus', \n",
    "                             'Quercus Alnifolia' : 'Quercus',\n",
    "                             'Quercus Brantii' : 'Quercus', \n",
    "                             'Quercus Canariensis' : 'Quercus', \n",
    "                             'Quercus Castaneifolia' : 'Quercus',\n",
    "                             'Quercus Cerris' : 'Quercus', \n",
    "                             'Quercus Chrysolepis' : 'Quercus', \n",
    "                             'Quercus Coccifera' : 'Quercus',       \n",
    "                             'Quercus Coccinea' : 'Quercus', \n",
    "                             'Quercus Crassifolia' : 'Quercus', \n",
    "                             'Quercus Crassipes' : 'Quercus',\n",
    "                             'Quercus Dolicholepis' : 'Quercus', \n",
    "                             'Quercus Ellipsoidalis' : 'Quercus', \n",
    "                             'Quercus Greggii' : 'Quercus',\n",
    "                             'Quercus Hartwissiana' : 'Quercus', \n",
    "                             'Quercus Ilex' : 'Quercus', \n",
    "                             'Quercus Imbricaria' : 'Quercus',       \n",
    "                             'Quercus Infectoria sub' : 'Quercus', \n",
    "                             'Quercus Kewensis' : 'Quercus', \n",
    "                             'Quercus Nigra' : 'Quercus',\n",
    "                             'Quercus Palustris' : 'Quercus', \n",
    "                             'Quercus Phellos' : 'Quercus', \n",
    "                             'Quercus Phillyraeoides' : 'Quercus',       \n",
    "                             'Quercus Pontica' : 'Quercus', \n",
    "                             'Quercus Pubescens' : 'Quercus', \n",
    "                             'Quercus Pyrenaica' : 'Quercus',\n",
    "                             'Quercus Rhysophylla' : 'Quercus', \n",
    "                             'Quercus Rubra' : 'Quercus', \n",
    "                             'Quercus Semecarpifolia' : 'Quercus',\n",
    "                             'Quercus Shumardii' : 'Quercus', \n",
    "                             'Quercus Suber' : 'Quercus', \n",
    "                             'Quercus Texana' : 'Quercus',\n",
    "                             'Quercus Trojana' : 'Quercus', \n",
    "                             'Quercus Variabilis' : 'Quercus', \n",
    "                             'Quercus Vulcanica' : 'Quercus',\n",
    "                             'Quercus x Hispanica' : 'Quercus', \n",
    "                             'Quercus x Turneri' : 'Quercus'\n",
    "                            })"
   ]
  },
  {
   "cell_type": "code",
   "execution_count": 7,
   "metadata": {
    "collapsed": false
   },
   "outputs": [
    {
     "data": {
      "text/plain": [
       "array(['Acer', 'Quercus'], dtype=object)"
      ]
     },
     "execution_count": 7,
     "metadata": {},
     "output_type": "execute_result"
    }
   ],
   "source": [
    "y = df.iloc[:, 0]\n",
    "X = df.iloc[:, 1:]\n",
    "y.unique()"
   ]
  },
  {
   "cell_type": "code",
   "execution_count": 8,
   "metadata": {
    "collapsed": false
   },
   "outputs": [
    {
     "data": {
      "image/png": "[encoded data removed]",
      "text/plain": [
       "<matplotlib.figure.Figure at 0xb96a0b8>"
      ]
     },
     "metadata": {},
     "output_type": "display_data"
    }
   ],
   "source": [
    "sns.kdeplot(df[\"1\"],  label=\"1\")\n",
    "sns.kdeplot(df[\"2\"],  label=\"2\")\n",
    "sns.kdeplot(df[\"3\"],  label=\"3\")\n",
    "sns.kdeplot(df[\"4\"],  label=\"4\")\n",
    "sns.kdeplot(df[\"5\"],  label=\"5\")\n",
    "plt.legend()\n",
    "plt.title('Atributes distribution')\n",
    "plt.show()"
   ]
  },
  {
   "cell_type": "markdown",
   "metadata": {},
   "source": [
    "#### Find the most important features"
   ]
  },
  {
   "cell_type": "code",
   "execution_count": 9,
   "metadata": {
    "collapsed": false
   },
   "outputs": [
    {
     "name": "stdout",
     "output_type": "stream",
     "text": [
      "Features sorted by their score:\n",
      "Feature ranking:\n",
      "1. feature 8 (0.068454)\n",
      "2. feature 30 (0.057920)\n",
      "3. feature 53 (0.053260)\n",
      "4. feature 45 (0.052638)\n",
      "5. feature 40 (0.045557)\n",
      "6. feature 28 (0.044670)\n",
      "7. feature 17 (0.042566)\n",
      "8. feature 23 (0.041832)\n",
      "9. feature 48 (0.037196)\n",
      "10. feature 21 (0.035568)\n",
      "11. feature 4 (0.035526)\n",
      "12. feature 57 (0.035109)\n",
      "13. feature 60 (0.026081)\n",
      "14. feature 5 (0.022622)\n",
      "15. feature 41 (0.018095)\n",
      "16. feature 31 (0.017748)\n",
      "17. feature 49 (0.015956)\n",
      "18. feature 1 (0.015349)\n",
      "19. feature 32 (0.014908)\n",
      "20. feature 42 (0.014748)\n",
      "21. feature 38 (0.014159)\n",
      "22. feature 16 (0.013734)\n",
      "23. feature 55 (0.012280)\n",
      "24. feature 63 (0.012192)\n",
      "25. feature 14 (0.012034)\n",
      "26. feature 11 (0.010896)\n",
      "27. feature 0 (0.010709)\n",
      "28. feature 2 (0.010383)\n",
      "29. feature 58 (0.010021)\n",
      "30. feature 47 (0.009983)\n",
      "31. feature 61 (0.009900)\n",
      "32. feature 51 (0.009811)\n",
      "33. feature 10 (0.008841)\n",
      "34. feature 56 (0.008822)\n",
      "35. feature 29 (0.008639)\n",
      "36. feature 36 (0.008573)\n",
      "37. feature 44 (0.008573)\n",
      "38. feature 19 (0.008470)\n",
      "39. feature 37 (0.007874)\n",
      "40. feature 27 (0.007791)\n",
      "41. feature 50 (0.007445)\n",
      "42. feature 52 (0.006842)\n",
      "43. feature 25 (0.006726)\n",
      "44. feature 62 (0.006661)\n",
      "45. feature 20 (0.006480)\n",
      "46. feature 39 (0.006017)\n",
      "47. feature 46 (0.005837)\n",
      "48. feature 6 (0.005771)\n",
      "49. feature 43 (0.005696)\n",
      "50. feature 33 (0.005592)\n",
      "51. feature 34 (0.005577)\n",
      "52. feature 12 (0.005426)\n",
      "53. feature 35 (0.005286)\n",
      "54. feature 24 (0.003704)\n",
      "55. feature 9 (0.003039)\n",
      "56. feature 3 (0.002772)\n",
      "57. feature 7 (0.002231)\n",
      "58. feature 59 (0.002102)\n",
      "59. feature 54 (0.001721)\n",
      "60. feature 13 (0.001641)\n",
      "61. feature 26 (0.001623)\n",
      "62. feature 18 (0.000968)\n",
      "63. feature 15 (0.000722)\n",
      "64. feature 22 (0.000631)\n"
     ]
    },
    {
     "data": {
      "image/png": "[encoded data removed]",
      "text/plain": [
       "<matplotlib.figure.Figure at 0xa4d2eb8>"
      ]
     },
     "metadata": {},
     "output_type": "display_data"
    }
   ],
   "source": [
    "from sklearn.ensemble import RandomForestClassifier\n",
    "rf = RandomForestClassifier()\n",
    "rf.fit(X, y)\n",
    "print (\"Features sorted by their score:\")\n",
    "importances = rf.feature_importances_\n",
    "std = np.std([tree.feature_importances_ for tree in rf.estimators_],\n",
    "             axis=0)\n",
    "indices = np.argsort(importances)[::-1]\n",
    "\n",
    "# Print the feature ranking\n",
    "print(\"Feature ranking:\")\n",
    "\n",
    "for f in range(X.shape[1]):\n",
    "    print(\"%d. feature %d (%f)\" % (f + 1, indices[f], importances[indices[f]]))\n",
    "\n",
    "# Plot the feature importances of the forest\n",
    "plt.figure()\n",
    "plt.title(\"Feature importances\")\n",
    "plt.bar(range(X.shape[1]), importances[indices],\n",
    "       color=\"r\", yerr=std[indices], align=\"center\")\n",
    "plt.xticks(range(X.shape[1]), indices)\n",
    "plt.xlim([-1, X.shape[1]])\n",
    "plt.show()"
   ]
  },
  {
   "cell_type": "markdown",
   "metadata": {},
   "source": [
    "#### Split data for training and test set"
   ]
  },
  {
   "cell_type": "code",
   "execution_count": 14,
   "metadata": {
    "collapsed": false
   },
   "outputs": [],
   "source": [
    "from sklearn.model_selection import train_test_split\n",
    "train, test = train_test_split(df, test_size=0.33, random_state=42)\n",
    "\n",
    "#So take the most important features:\n",
    "features = np.array([\"30\", \"8\", \"53\", \"45\", \"40\", \"28\", \"17\", \"23\", \"48\", \"21\", \"4\", \"57\", \"60\", \"5\", \"41\", \"31\", \"49\", \"1\", \"32\", \"42\"])\n",
    "\n",
    "X_train = train[features].values\n",
    "y_train = train.iloc[:, 0]"
   ]
  },
  {
   "cell_type": "markdown",
   "metadata": {},
   "source": [
    "### CROSS VALIDATION![title](img/crossvalidation.png)"
   ]
  },
  {
   "cell_type": "markdown",
   "metadata": {},
   "source": [
    "### Classification using K-NN"
   ]
  },
  {
   "cell_type": "markdown",
   "metadata": {},
   "source": [
    "![title](img/knn.png)"
   ]
  },
  {
   "cell_type": "code",
   "execution_count": 15,
   "metadata": {
    "collapsed": false
   },
   "outputs": [
    {
     "name": "stdout",
     "output_type": "stream",
     "text": [
      "Accuracy: 0.92 (+/- 0.04)\n"
     ]
    }
   ],
   "source": [
    "from sklearn.neighbors import KNeighborsClassifier\n",
    "from sklearn.model_selection import cross_val_score\n",
    "\n",
    "n_neighbors = 20\n",
    "\n",
    "clf = KNeighborsClassifier(n_neighbors)\n",
    "clf.fit(X_train, y_train)\n",
    "\n",
    "scores = cross_val_score(clf, X_train, y_train, cv=5)\n",
    "#scores\n",
    "print(\"Accuracy: %0.2f (+/- %0.2f)\" % (scores.mean(), scores.std() * 2))"
   ]
  },
  {
   "cell_type": "markdown",
   "metadata": {},
   "source": [
    "### Clustering"
   ]
  },
  {
   "cell_type": "markdown",
   "metadata": {},
   "source": [
    "![title](img/cluster.gif)"
   ]
  },
  {
   "cell_type": "code",
   "execution_count": 16,
   "metadata": {
    "collapsed": false
   },
   "outputs": [
    {
     "name": "stdout",
     "output_type": "stream",
     "text": [
      "Accuracy: -0.52 (+/- 0.08)\n"
     ]
    }
   ],
   "source": [
    "from sklearn.cluster import KMeans\n",
    "kmeans = KMeans(n_clusters=2, random_state=0)\n",
    "\n",
    "scores = cross_val_score(kmeans, X_train, y_train, cv=5)\n",
    "print(\"Accuracy: %0.2f (+/- %0.2f)\" % (scores.mean(), scores.std() * 2))"
   ]
  },
  {
   "cell_type": "code",
   "execution_count": null,
   "metadata": {
    "collapsed": true
   },
   "outputs": [],
   "source": []
  }
 ],
 "metadata": {
  "anaconda-cloud": {},
  "kernelspec": {
   "display_name": "Python [conda env:tensor]",
   "language": "python",
   "name": "conda-env-tensor-py"
  },
  "language_info": {
   "codemirror_mode": {
    "name": "ipython",
    "version": 3
   },
   "file_extension": ".py",
   "mimetype": "text/x-python",
   "name": "python",
   "nbconvert_exporter": "python",
   "pygments_lexer": "ipython3",
   "version": "3.5.2"
  }
 },
 "nbformat": 4,
 "nbformat_minor": 1
}
